{
 "cells": [
  {
   "cell_type": "code",
   "execution_count": 1,
   "id": "b21b4661",
   "metadata": {},
   "outputs": [],
   "source": [
    "import numpy as np\n",
    "import matplotlib.pyplot as plt\n",
    "%matplotlib inline"
   ]
  },
  {
   "cell_type": "markdown",
   "id": "6f535925",
   "metadata": {},
   "source": [
    "### Dot Product of 2 Vectors\n",
    "\n",
    "$$\n",
    "\\begin{equation} \\vec{a} \\cdot \\vec{b} =  \n",
    " \\sum_{i=1}^n a_i b_i =\n",
    "(a_{1} \\cdot b_{1}) + (a_{2} \\cdot b_{2}) \\; + ... + \\; (a_{n} \\cdot b_{n})\n",
    "\\end{equation}\n",
    "$$\n"
   ]
  },
  {
   "cell_type": "code",
   "execution_count": 2,
   "id": "66179971",
   "metadata": {},
   "outputs": [
    {
     "name": "stdout",
     "output_type": "stream",
     "text": [
      "20\n"
     ]
    }
   ],
   "source": [
    "a = [1, 2, 3]\n",
    "b = [2, 3, 4]\n",
    "\n",
    "dot_product = a[0]*b[0] + a[1]*b[1]+a[2]*b[2]\n",
    "print(dot_product) #20"
   ]
  },
  {
   "cell_type": "markdown",
   "id": "88e1b140",
   "metadata": {},
   "source": [
    "### Sum 2 Vectors\n",
    "\n",
    "$$\n",
    "\\begin{equation} \\vec{a} + \\vec{b} =  \n",
    "[a_{1} + b_{1}, a_{2} + b_{2},...,a_{n} + b_{n}]\n",
    "\\end{equation}\n",
    "$$"
   ]
  },
  {
   "cell_type": "code",
   "execution_count": 3,
   "id": "77202980",
   "metadata": {},
   "outputs": [
    {
     "name": "stdout",
     "output_type": "stream",
     "text": [
      "[3, 5, 7]\n"
     ]
    }
   ],
   "source": [
    "a = [1, 2, 3]\n",
    "b = [2, 3, 4]\n",
    "\n",
    "vectors_sum = [a[0]+b[0], a[1]+b[1], a[2]+b[2]]\n",
    "print(vectors_sum) # [3, 5, 7]"
   ]
  },
  {
   "cell_type": "markdown",
   "id": "5f7dd723",
   "metadata": {},
   "source": [
    "### A Single Neuron with NumPy"
   ]
  },
  {
   "cell_type": "code",
   "execution_count": 4,
   "id": "a08a4b3d",
   "metadata": {},
   "outputs": [
    {
     "name": "stdout",
     "output_type": "stream",
     "text": [
      "4.8\n"
     ]
    }
   ],
   "source": [
    "inputs = np.array([1.0, 2.0, 3.0, 2.5])\n",
    "weights = np.array([0.2, 0.8, -0.5, 1.0])\n",
    "bias = 2\n",
    "# sum of vector * vector + bias\n",
    "outputs = np.dot(inputs, weights.T) + bias\n",
    "print(outputs) # 4.8"
   ]
  },
  {
   "cell_type": "markdown",
   "id": "00ac80a1",
   "metadata": {},
   "source": [
    "### A Layer of Neurons with NumPy"
   ]
  },
  {
   "cell_type": "code",
   "execution_count": 5,
   "id": "a266a0e4",
   "metadata": {},
   "outputs": [
    {
     "name": "stdout",
     "output_type": "stream",
     "text": [
      "[4.8  2.11 2.84]\n",
      "(3,)\n"
     ]
    }
   ],
   "source": [
    "inputs = np.array([1.0, 2.0, 3.0, 2.5])\n",
    "weights = np.array([\n",
    "    [0.2, 0.8, -0.5, 1.0],\n",
    "    [0.5, -0.92, 0.25, -0.12],\n",
    "    [-0.26, 0.8, -0.5, 1.0]])\n",
    "biases = [2.0, 3.0, 0.5]\n",
    "# sum(list of vectors * vector) + vector\n",
    "layer_outputs = np.dot(inputs, weights.T) + biases\n",
    "print(layer_outputs) # [4.8 2.11 2.84]\n",
    "print(layer_outputs.shape) # (3,0)"
   ]
  },
  {
   "cell_type": "markdown",
   "id": "40837a18",
   "metadata": {},
   "source": [
    "### Transposition for the Matrix Product\n",
    "\n",
    "***Transposition*** simply modifies a matrix in a way that its **rows**\n",
    "become **columns** and **columns** become **rows**:\n",
    "\n",
    "$$\n",
    "\\begin{equation} \\vec{a} \\cdot \\vec{b} = ab^T\n",
    "\\end{equation}\n",
    "$$\n",
    "#### Example 1\n",
    "$$\n",
    "\\begin{equation} \\vec{a} \\cdot \\vec{b} = \n",
    " \\begin{bmatrix} 1 & 2 & 3 \\end{bmatrix} \n",
    " \\begin{bmatrix} 2 \\\\ 3 \\\\ 4 \\end{bmatrix} = \n",
    " \\begin{bmatrix} 20 \\end{bmatrix}\n",
    "\\end{equation}\n",
    "$$\n",
    "\n",
    "#### Example 2\n",
    "\n",
    "$$\n",
    "\\begin{equation}\n",
    " \\begin{bmatrix} 1 & 2 & 3 \\\\ 4 & 5 & 6 \\\\ 7 & 8 & 9 \\end{bmatrix}^T =\n",
    " \\begin{bmatrix} 1 & 4 & 7 \\\\ 2 & 5 & 8 \\\\ 3 & 6 & 9 \\end{bmatrix}\n",
    "\\end{equation}\n",
    "$$"
   ]
  },
  {
   "cell_type": "code",
   "execution_count": 6,
   "id": "c75945ee",
   "metadata": {},
   "outputs": [
    {
     "name": "stdout",
     "output_type": "stream",
     "text": [
      "(1, 3)\n",
      "(3, 1)\n",
      "[[26]]\n"
     ]
    }
   ],
   "source": [
    "a = [1, 2, 3]\n",
    "b = [3, 4, 5]\n",
    "\n",
    "aVector = np.array([a]) # row vector\n",
    "bVector = np.array([b]).T # make T -> column vector\n",
    "print(aVector.shape) # (1,3)\n",
    "print(bVector.shape) # (3,1)\n",
    "\n",
    "print(np.dot(aVector, bVector)) # 26"
   ]
  },
  {
   "cell_type": "markdown",
   "id": "242021b1",
   "metadata": {},
   "source": [
    "### A Layer of Neurons & Batch of Data w/ NumPy"
   ]
  },
  {
   "cell_type": "code",
   "execution_count": 7,
   "id": "b097e504",
   "metadata": {},
   "outputs": [
    {
     "name": "stdout",
     "output_type": "stream",
     "text": [
      "[[ 4.8    1.21   2.385]\n",
      " [ 8.9   -1.81   0.2  ]\n",
      " [ 1.41   1.051  0.026]]\n"
     ]
    }
   ],
   "source": [
    "inputs = np.array([\n",
    "    [1.0, 2.0, 3.0, 2.5],\n",
    "    [2.0, 5.0, -1.0, 2.0],\n",
    "    [-1.5, 2.7, 3.3, -0.8]])\n",
    "weights = [\n",
    "    [0.2, 0.8, -0.5, 1.0],\n",
    "    [0.5, -0.91, 0.26, -0.5],\n",
    "    [-0.26, -0.27, 0.17, 0.87]]\n",
    "biases = [2.0, 3.0, 0.5]\n",
    "\n",
    "ouputs = np.dot(inputs, np.array(weights).T) + biases\n",
    "print(ouputs)"
   ]
  },
  {
   "cell_type": "code",
   "execution_count": 8,
   "id": "5796a82a",
   "metadata": {},
   "outputs": [
    {
     "name": "stdout",
     "output_type": "stream",
     "text": [
      "[[ 4.8    1.21   2.385]\n",
      " [ 8.9   -1.81   0.2  ]\n",
      " [ 1.41   1.051  0.026]]\n",
      "[[ 0.5031  -1.04185 -2.03875]\n",
      " [ 0.2434  -2.7332  -5.7633 ]\n",
      " [-0.99314  1.41254 -0.35655]]\n"
     ]
    }
   ],
   "source": [
    "inputs = np.array([[1, 2, 3, 2.5],\n",
    "          [2., 5., -1., 2],\n",
    "          [-1.5, 2.7, 3.3, -0.8]])\n",
    "weights1 = [[0.2, 0.8, -0.5, 1],\n",
    "           [0.5, -0.91, 0.26, -0.5],\n",
    "           [-0.26, -0.27, 0.17, 0.87]]\n",
    "biases1 = [2, 3, 0.5]\n",
    "weights2 = [[0.1, -0.14, 0.5],\n",
    "            [-0.5, 0.12, -0.33],\n",
    "            [-0.44, 0.73, -0.13]]\n",
    "biases2 = [-1, 2, -0.5]\n",
    "\n",
    "layer1_output = np.dot(inputs, np.array(weights1).T) + biases1\n",
    "layer2_output = np.dot(layer1_output, np.array(weights2).T) + biases2\n",
    "print(layer1_output)\n",
    "print(layer2_output)"
   ]
  },
  {
   "cell_type": "code",
   "execution_count": 9,
   "id": "4d3689d8",
   "metadata": {},
   "outputs": [],
   "source": [
    "import nnfs\n",
    "from nnfs.datasets import spiral_data\n",
    "\n",
    "nnfs.init()"
   ]
  },
  {
   "cell_type": "code",
   "execution_count": 10,
   "id": "a0470964",
   "metadata": {},
   "outputs": [
    {
     "data": {
      "image/png": "[encoded data removed]",
      "text/plain": [
       "<Figure size 640x480 with 1 Axes>"
      ]
     },
     "metadata": {},
     "output_type": "display_data"
    }
   ],
   "source": [
    "X, y = spiral_data(samples=100, classes=3)\n",
    "plt.title('spiral data')\n",
    "plt.scatter(X[:, 0], X[:, 1], c=y)\n",
    "plt.show()"
   ]
  },
  {
   "cell_type": "markdown",
   "id": "49f21fe8",
   "metadata": {},
   "source": [
    "### Dense Layer Class"
   ]
  },
  {
   "cell_type": "code",
   "execution_count": 11,
   "id": "b32bc29c",
   "metadata": {},
   "outputs": [],
   "source": [
    "class Layer_Dense:\n",
    "    def __init__(self, n_inputs, n_neurons):\n",
    "        self.weights = 0.01 * np.random.randn(n_inputs, n_neurons)\n",
    "        self.biases = np.zeros((1, n_neurons))\n",
    "    \n",
    "    def forward(self, inputs):\n",
    "        self.output = np.dot(inputs, self.weights) + self.biases"
   ]
  },
  {
   "cell_type": "code",
   "execution_count": 12,
   "id": "15a56903",
   "metadata": {},
   "outputs": [
    {
     "name": "stdout",
     "output_type": "stream",
     "text": [
      "[[ 0.00000000e+00  0.00000000e+00  0.00000000e+00]\n",
      " [-1.11171044e-04 -5.11007493e-05 -1.12099799e-04]\n",
      " [ 2.99257295e-06 -2.69126613e-04 -1.45165104e-04]\n",
      " [ 8.95101766e-05 -4.30442247e-04 -1.68079801e-04]\n",
      " [-3.49893759e-04 -3.07208364e-04 -4.33002861e-04]\n",
      " [-9.66546431e-05 -6.26290333e-04 -4.16209630e-04]]\n"
     ]
    }
   ],
   "source": [
    "# n_inputs = 2\n",
    "# n_neurons = 4\n",
    "\n",
    "# weights = 0.01 * np.random.randn(n_inputs, n_neurons)\n",
    "# biases  = np.zeros((1, n_neurons))\n",
    "\n",
    "# print(weights)\n",
    "# print(biases)\n",
    "\n",
    "X, y = spiral_data(samples=100, classes=3)\n",
    "dense1 = Layer_Dense(2, 3)\n",
    "dense1.forward(X)\n",
    "\n",
    "print(dense1.output[:6])"
   ]
  },
  {
   "cell_type": "markdown",
   "id": "a132f66d",
   "metadata": {},
   "source": [
    "### The Linear Activation Function\n",
    "\n",
    "A *linear function* is simply the equation of a line. It will appear as a straight line when graphed, where ```y=x``` and the output value equals the input.\n",
    "\n",
    "\\begin{equation*}\n",
    "y = x\n",
    "\\end{equation*}"
   ]
  },
  {
   "cell_type": "markdown",
   "id": "633f9c46",
   "metadata": {},
   "source": [
    "### The Sigmoid Activation Function\n",
    "\n",
    "The output from the Sigmoid function, being in the range of 0 to 1.\n",
    "The *Sigmoid function*, historically used in hidden layers, was eventually replaced by the **Rectified Linear Units** activation function (or *ReLU*)\n",
    "\n",
    "\\begin{equation*}\n",
    "y = \\frac{1}{(1+e^{-x})}\n",
    "\\end{equation*}"
   ]
  },
  {
   "cell_type": "markdown",
   "id": "30a6362b",
   "metadata": {},
   "source": [
    "### The Rectified Linear Activation Function\n",
    "\n",
    "The rectified linear activation function is simpler than the sigmoid. It’s quite literally y=x, clipped at 0 from the negative side. If x is less than or equal to 0, then y is 0 — otherwise, y is equal to x.\n",
    "\n",
    "\\begin{equation*}\n",
    " y = \\left\\{\n",
    "    \\begin{array}\\\\\n",
    "        x & \\mbox x > 0 \\\\\n",
    "        0 & \\mbox x \\leq 0 \\\\\n",
    "    \\end{array}\n",
    "\\right.\n",
    "\\end{equation*}\n",
    "\n",
    "*This simple yet powerful activation function is the most widely used activation function at the time of writing for various reasons — mainly speed and efficiency. While the **Sigmoid activation function** isn’t the most complicated, it’s still much more challenging to compute than the **ReLU activation function**. The **ReLU** is extremely close to being a linear activation function while remaining nonlinear, due to that bend after 0. This simple property is, however, very effective.*\n"
   ]
  },
  {
   "cell_type": "markdown",
   "id": "3204d329",
   "metadata": {},
   "source": [
    "### The Softmax Activation Function\n",
    "\n",
    "\\begin{align}\n",
    "S_{i,j} = \\frac{e^{z_{i,j}}}{\\sum_{l=1}^L e^{z_{i,j}}}\n",
    "\\end{align}\n",
    "\n"
   ]
  },
  {
   "cell_type": "code",
   "execution_count": 13,
   "id": "a44ec37d",
   "metadata": {},
   "outputs": [
    {
     "name": "stdout",
     "output_type": "stream",
     "text": [
      "[0, 2, -1, 3.3, -2.7, 1.1, 2.2, -100]\n",
      "[0, 2, 0, 3.3, 0, 1.1, 2.2, 0]\n"
     ]
    }
   ],
   "source": [
    "#ReLU example\n",
    "inputs = [0, 2, -1, 3.3, -2.7, 1.1, 2.2, -100]\n",
    "output = [max(0, i) for i in inputs]\n",
    "print(inputs)\n",
    "print(output)"
   ]
  },
  {
   "cell_type": "code",
   "execution_count": 14,
   "id": "4bef42c7",
   "metadata": {},
   "outputs": [
    {
     "name": "stdout",
     "output_type": "stream",
     "text": [
      "[0, 2, -1, 3.3, -2.7, 1.1, 2.2, -100]\n",
      "[0.  2.  0.  3.3 0.  1.1 2.2 0. ]\n"
     ]
    }
   ],
   "source": [
    "#ReLU example NumPy\n",
    "inputs = [0, 2, -1, 3.3, -2.7, 1.1, 2.2, -100]\n",
    "output = np.maximum(0, inputs)\n",
    "print(inputs)\n",
    "print(output)"
   ]
  },
  {
   "cell_type": "code",
   "execution_count": 15,
   "id": "069d12a5",
   "metadata": {},
   "outputs": [
    {
     "name": "stdout",
     "output_type": "stream",
     "text": [
      "[[0.0000000e+00 0.0000000e+00 0.0000000e+00]\n",
      " [1.3520580e-04 1.8173116e-05 0.0000000e+00]\n",
      " [2.3245417e-04 0.0000000e+00 0.0000000e+00]\n",
      " [3.8226307e-04 0.0000000e+00 0.0000000e+00]\n",
      " [5.7436468e-04 0.0000000e+00 0.0000000e+00]]\n"
     ]
    }
   ],
   "source": [
    "class Activation_ReLU:\n",
    "    def forward(self, inputs):\n",
    "        self.output = np.maximum(0, inputs)\n",
    "\n",
    "X, y = spiral_data(samples=100, classes=3)\n",
    "# 2 inputs, 3 neurones\n",
    "dense1 = Layer_Dense(2, 3)\n",
    "activation1 = Activation_ReLU()\n",
    "\n",
    "dense1.forward(X)\n",
    "activation1.forward(dense1.output)\n",
    "print(activation1.output[:5])\n"
   ]
  },
  {
   "cell_type": "code",
   "execution_count": 16,
   "id": "bfaacecd",
   "metadata": {},
   "outputs": [
    {
     "name": "stdout",
     "output_type": "stream",
     "text": [
      "Normalized exponentiated values:\n",
      "[0.8952826639572619, 0.024708306782099374, 0.0800090292606387]\n",
      "Sum of normalized values: 0.9999999999999999\n"
     ]
    }
   ],
   "source": [
    "from math import e as E\n",
    "\n",
    "layer_outputs = [4.8, 1.21, 2.385]\n",
    "exp_values = [E ** output for output in layer_outputs]\n",
    "# print(exp_values)\n",
    "norm_base = sum(exp_values)\n",
    "norm_values = [value / norm_base for value in exp_values]\n",
    "\n",
    "print('Normalized exponentiated values:')\n",
    "print(norm_values)\n",
    "print('Sum of normalized values:', sum(norm_values))"
   ]
  },
  {
   "cell_type": "code",
   "execution_count": 17,
   "id": "84c1e764",
   "metadata": {},
   "outputs": [
    {
     "name": "stdout",
     "output_type": "stream",
     "text": [
      "exponentiated values:\n",
      "[121.51041752   3.35348465  10.85906266]\n",
      "Normalized exponentiated values:\n",
      "[0.89528266 0.02470831 0.08000903]\n",
      "Sum of normalized values: 0.9999999999999999\n"
     ]
    }
   ],
   "source": [
    "layer_outputs = [4.8, 1.21, 2.385]\n",
    "exp_values = np.exp(layer_outputs)\n",
    "print('exponentiated values:')\n",
    "print(exp_values)\n",
    "# Now normalize values\n",
    "norm_values = exp_values / np.sum(exp_values)\n",
    "print('Normalized exponentiated values:')\n",
    "print(norm_values)\n",
    "print('Sum of normalized values:', sum(norm_values))"
   ]
  },
  {
   "cell_type": "code",
   "execution_count": 18,
   "id": "cc06807a",
   "metadata": {},
   "outputs": [
    {
     "name": "stdout",
     "output_type": "stream",
     "text": [
      "18.172\n",
      "Sum without axis\n",
      "This will be identical to the above since default is None:\n",
      "18.172\n",
      "Another way to think of it w/ a matrix == axis 0: columns:\n",
      "[15.11   0.451  2.611]\n",
      "Sum axis 1, but keep the same dimensions as input:\n",
      "[[8.395]\n",
      " [7.29 ]\n",
      " [2.487]]\n"
     ]
    }
   ],
   "source": [
    "# Get unnormalized probabilities\n",
    "# exp_values = np.exp(inputs)\n",
    "# # Normalize them for each sample\n",
    "# probabilities = exp_values / np.sum(exp_values, axis=1, keepdims=True)\n",
    "\n",
    "layer_outputs = np.array([[4.8, 1.21, 2.385],\n",
    "                          [8.9, -1.81, 0.2],\n",
    "                          [1.41, 1.051, 0.026]])\n",
    "print(np.sum(layer_outputs))\n",
    "print('Sum without axis')\n",
    "print('This will be identical to the above since default is None:')\n",
    "print(np.sum(layer_outputs, axis=None))\n",
    "\n",
    "print('Another way to think of it w/ a matrix == axis 0: columns:') \n",
    "print(np.sum(layer_outputs, axis=0))\n",
    "\n",
    "print('Sum axis 1, but keep the same dimensions as input:') \n",
    "print(np.sum(layer_outputs, axis=1, keepdims=True))"
   ]
  },
  {
   "cell_type": "code",
   "execution_count": 19,
   "id": "b5d3d1d1",
   "metadata": {},
   "outputs": [
    {
     "name": "stdout",
     "output_type": "stream",
     "text": [
      "2.718281828459045\n",
      "22026.465794806718\n",
      "2.6881171418161356e+43\n",
      "0.0 1.0\n"
     ]
    }
   ],
   "source": [
    "class Activation_Softmax:\n",
    "    def forward(self, inputs):\n",
    "        exp_values = np.exp(np.array(inputs) - np.max(inputs, axis=1, keepdims=True))\n",
    "        # Normalize\n",
    "        probabilities = exp_values / np.sum(exp_values, axis=1, keepdims=True)\n",
    "        self.output = probabilities;\n",
    "\n",
    "print(np.exp(1))\n",
    "print(np.exp(10))\n",
    "print(np.exp(100))\n",
    "print(np.exp(-np.inf), np.exp(0))"
   ]
  },
  {
   "cell_type": "code",
   "execution_count": 20,
   "id": "19583a99",
   "metadata": {},
   "outputs": [
    {
     "name": "stdout",
     "output_type": "stream",
     "text": [
      "[[0.09003057 0.24472847 0.66524096]]\n",
      "[[0.09003057 0.24472847 0.66524096]]\n",
      "[[0.18632372 0.30719589 0.50648039]]\n"
     ]
    }
   ],
   "source": [
    "softmax = Activation_Softmax()\n",
    "softmax.forward([[1,2,3]])\n",
    "print(softmax.output)\n",
    "\n",
    "softmax.forward([[-2,-1,0]])\n",
    "print(softmax.output)\n",
    "\n",
    "softmax.forward([[0.5,1,1.5]])\n",
    "print(softmax.output)"
   ]
  },
  {
   "cell_type": "code",
   "execution_count": 21,
   "id": "a6ba15d8",
   "metadata": {},
   "outputs": [
    {
     "name": "stdout",
     "output_type": "stream",
     "text": [
      "[[0.33333334 0.33333334 0.33333334]\n",
      " [0.3333332  0.33333343 0.3333333 ]\n",
      " [0.33333296 0.33333385 0.33333316]\n",
      " [0.33333233 0.33333507 0.33333266]\n",
      " [0.33333194 0.33333552 0.33333248]]\n"
     ]
    }
   ],
   "source": [
    "X, y = spiral_data(samples=100, classes=3)\n",
    "\n",
    "dense1 = Layer_Dense(2,3)\n",
    "activation1 = Activation_ReLU()\n",
    "dense2 = Layer_Dense(3,3)\n",
    "activation2 = Activation_Softmax()\n",
    "\n",
    "dense1.forward(X)\n",
    "activation1.forward(dense1.output)\n",
    "dense2.forward(activation1.output)\n",
    "activation2.forward(dense2.output)\n",
    "\n",
    "print(activation2.output[:5])"
   ]
  },
  {
   "cell_type": "markdown",
   "id": "bf1fd6f7",
   "metadata": {},
   "source": [
    "### Categorical Cross-Entropy Loss\n",
    "\n",
    "$\n",
    "L_{i} = - \\sum_j y_{i,j}log(\\hat{y}_{i,j})\n",
    "$\n",
    "\n",
    "Where $L_{i}$ denotes sample loss value, *i* is the i-th sample in the set, *j* is the label/output index, *y* denotes the target values, and $\\hat{y}$ denotes the predicted values.\n",
    "Once we start coding the solution, we’ll simplify it further to *-log(correct_class_confidence)*, the formula for which is:\n",
    "\n",
    "$\n",
    "\\begin{align}\n",
    "L_{i} = - log(\\hat{y}_{i,k})\n",
    "\\end{align}\n",
    "$\n",
    "Where **k** is an index of 'true' probability."
   ]
  },
  {
   "cell_type": "markdown",
   "id": "4f449d77",
   "metadata": {},
   "source": [
    "```python\n",
    "softmax_output = [0.7, 0.1, 0.2]\n",
    "```\n",
    "\n",
    "$\n",
    "\\begin{align}\n",
    "L_{i} = - \\sum_j y_{i,j}log(\\hat{y}_{i,j}) =\n",
    "-(1 \\cdot log(0.7) + 0 \\cdot log(0.1) + 0 \\cdot log(0.2)) = -(-0.3566749439... + 0 + 0) = \n",
    "0.3566749439\n",
    "\\end{align}\n",
    "$"
   ]
  },
  {
   "cell_type": "code",
   "execution_count": 22,
   "id": "32bf7aab",
   "metadata": {},
   "outputs": [
    {
     "name": "stdout",
     "output_type": "stream",
     "text": [
      "0.35667494393873245\n"
     ]
    }
   ],
   "source": [
    "from math import log\n",
    "\n",
    "softmax_output = [0.7, 0.1, 0.2]\n",
    "target_output = [1,0,0]\n",
    "loss = -sum(log(softmax_output[i]) * target_output[i] for i in range(3))\n",
    "\n",
    "print(loss)"
   ]
  },
  {
   "cell_type": "markdown",
   "id": "be4dc8f2",
   "metadata": {},
   "source": [
    "### Find Suitable result of output by prediction"
   ]
  },
  {
   "cell_type": "code",
   "execution_count": 30,
   "id": "f0d97677",
   "metadata": {},
   "outputs": [
    {
     "name": "stdout",
     "output_type": "stream",
     "text": [
      "[0.7 0.6 0.8]\n"
     ]
    }
   ],
   "source": [
    "softmax_outputs = np.array([\n",
    "    [0.7, 0.3, 0.],\n",
    "    [0., 0.6, 0.4],\n",
    "    [0., 0.8, 0.2],\n",
    "])\n",
    "# ouputs targets\n",
    "class_targets = [0, 1, 1]\n",
    "# cat, dog, huma\n",
    "class_types = [0,1,2]\n",
    "print(softmax_outputs[[class_types], class_targets].flatten())"
   ]
  },
  {
   "cell_type": "code",
   "execution_count": 31,
   "id": "f52cf67f",
   "metadata": {},
   "outputs": [
    {
     "name": "stdout",
     "output_type": "stream",
     "text": [
      "[0.35667494 0.51082562 0.22314355]\n"
     ]
    }
   ],
   "source": [
    "# negative log\n",
    "print(-np.log(softmax_outputs[\n",
    "    range(len(softmax_outputs)), class_targets\n",
    "]))"
   ]
  },
  {
   "cell_type": "code",
   "execution_count": 32,
   "id": "3a501e40",
   "metadata": {},
   "outputs": [
    {
     "name": "stdout",
     "output_type": "stream",
     "text": [
      "0.3635480396729776\n"
     ]
    }
   ],
   "source": [
    "# arithmetic mean: sum(iterable) / len(iterable)\n",
    "neg_log = -np.log(softmax_outputs[\n",
    "    range(len(softmax_outputs)), class_targets\n",
    "])\n",
    "average_loss = np.mean(neg_log)\n",
    "print(average_loss)"
   ]
  },
  {
   "cell_type": "code",
   "execution_count": 35,
   "id": "d10bc82d",
   "metadata": {},
   "outputs": [
    {
     "name": "stdout",
     "output_type": "stream",
     "text": [
      "0.3635480396729776\n"
     ]
    }
   ],
   "source": [
    "# softmax_outputs\n",
    "outputs = np.array([\n",
    "    [0.7, 0.3, 0.],\n",
    "    [0., 0.6, 0.4],\n",
    "    [0., 0.8, 0.2],\n",
    "])\n",
    "# predictions answers\n",
    "class_targets = np.array([\n",
    "    [1,0,0],\n",
    "    [0,1,0],\n",
    "    [0,1,0],\n",
    "])\n",
    "\n",
    "if len(class_targets.shape) == 1:\n",
    "    correct_confidences = outputs[\n",
    "        range(len(outputs)),\n",
    "        class_targets\n",
    "    ]\n",
    "elif len(class_targets.shape) == 2:\n",
    "    correct_confidences = np.sum(\n",
    "        outputs * class_targets,\n",
    "        axis=1\n",
    "    )\n",
    "\n",
    "# losses\n",
    "neg_log = -np.log(correct_confidences)\n",
    "average_loss = np.mean(neg_log)\n",
    "print(average_loss)"
   ]
  },
  {
   "cell_type": "markdown",
   "id": "bbd63cde",
   "metadata": {},
   "source": [
    "###  Natural logarithm of x\n",
    "\n",
    "$$\n",
    "\\begin{equation}\n",
    "\\lim_{x \\to 0^{+}} log(x) = - \\infty\n",
    "\\end{equation}\n",
    "$$"
   ]
  },
  {
   "cell_type": "code",
   "execution_count": 36,
   "id": "2891d053",
   "metadata": {},
   "outputs": [
    {
     "name": "stdout",
     "output_type": "stream",
     "text": [
      "0.0\n"
     ]
    }
   ],
   "source": [
    "print(np.e**(-np.inf))"
   ]
  },
  {
   "cell_type": "markdown",
   "id": "239a5140",
   "metadata": {},
   "source": [
    "### The Categorical Cross-Entropy Loss Class"
   ]
  },
  {
   "cell_type": "code",
   "execution_count": 45,
   "id": "71945151",
   "metadata": {},
   "outputs": [
    {
     "name": "stdout",
     "output_type": "stream",
     "text": [
      "loss: 0.3635480396729776\n"
     ]
    }
   ],
   "source": [
    "######################################################################\n",
    "class Loss:\n",
    "    def calculate(self, output, y):\n",
    "        # sample losses\n",
    "        sample_losses = self.forward(output, y)\n",
    "        # mean loss - data_loss\n",
    "        return np.mean(sample_losses)\n",
    "######################################################################\n",
    "class Loss_CategoricalCrossentropy(Loss):\n",
    "    def forward(self, y_pred, y_true):\n",
    "        # int samples in a batch\n",
    "        samples = len(y_pred)\n",
    "        # clip data to prevent division by 0\n",
    "        # clip both sides to not drag mean towards any value\n",
    "        y_pred_clipped = np.clip(y_pred, 1e-7, 1 - 1e-7)\n",
    "        # probabilities for target values (for categorical labels)\n",
    "        if len(y_true.shape) == 1:\n",
    "            correct_confidences = y_pred_clipped[\n",
    "                range(samples), y_true\n",
    "            ]\n",
    "        elif len(y_true.shape) == 2:\n",
    "            correct_confidences = np.sum(\n",
    "                y_pred_clipped * y_true, axis=1\n",
    "            )\n",
    "        # losses - negative_log\n",
    "        negative_log = -np.log(correct_confidences)\n",
    "        return negative_log\n",
    "        \n",
    "######################################################################\n",
    "loss_function = Loss_CategoricalCrossentropy()\n",
    "loss = loss_function.calculate(softmax_outputs, class_targets)\n",
    "print(f'loss: {loss}')\n"
   ]
  },
  {
   "cell_type": "markdown",
   "id": "6b0e0278",
   "metadata": {},
   "source": [
    "### Use all together for NN"
   ]
  },
  {
   "cell_type": "code",
   "execution_count": 47,
   "id": "c44475d9",
   "metadata": {},
   "outputs": [
    {
     "name": "stdout",
     "output_type": "stream",
     "text": [
      "[[0.33333334 0.33333334 0.33333334]\n",
      " [0.33333334 0.33333334 0.33333334]\n",
      " [0.33333334 0.33333334 0.33333334]\n",
      " [0.33333334 0.33333334 0.33333334]\n",
      " [0.3333336  0.3333332  0.3333332 ]]\n",
      "loss: 1.0986117124557495\n"
     ]
    }
   ],
   "source": [
    "# create dataset\n",
    "X, y = spiral_data(samples=100, classes=3)\n",
    "\n",
    "dense1 = Layer_Dense(2,3)\n",
    "activation1 = Activation_ReLU()\n",
    "dense2 = Layer_Dense(3,3)\n",
    "activation2 = Activation_Softmax()\n",
    "#loss function\n",
    "loss_function = Loss_CategoricalCrossentropy()\n",
    "\n",
    "# pass data in first Layer\n",
    "dense1.forward(X)\n",
    "activation1.forward(dense1.output)\n",
    "dense2.forward(activation1.output)\n",
    "activation2.forward(dense2.output)\n",
    "# output from NN\n",
    "print(activation2.output[:5])\n",
    "# loss\n",
    "loss = loss_function.calculate(activation2.output, y)\n",
    "print(f'loss: {loss}')"
   ]
  },
  {
   "cell_type": "markdown",
   "id": "0563140c",
   "metadata": {},
   "source": [
    "### Accuracy Calculation"
   ]
  },
  {
   "cell_type": "code",
   "execution_count": 52,
   "id": "f1bbfcdc",
   "metadata": {},
   "outputs": [
    {
     "name": "stdout",
     "output_type": "stream",
     "text": [
      "acc: 1.0\n"
     ]
    }
   ],
   "source": [
    "outputs = np.array([\n",
    "    [0.7, 0.2, 0.1],\n",
    "    [0.1, 0.6, 0.3],\n",
    "    [0.1, 0.8, 0.1],\n",
    "])\n",
    "# 3 smaples\n",
    "class_targets = np.array([0,1,1])\n",
    "\n",
    "predictions = np.argmax(outputs, axis=1)\n",
    "if len(class_targets.shape) == 2:\n",
    "    class_targets = np.argmax(\n",
    "        class_targets, axis=1\n",
    "    )\n",
    "# True eval to 1, False to 0\n",
    "accuracy = np.mean(predictions == class_targets)\n",
    "\n",
    "print(f'acc: {accuracy}')"
   ]
  },
  {
   "cell_type": "code",
   "execution_count": 54,
   "id": "074ae59c",
   "metadata": {},
   "outputs": [
    {
     "name": "stdout",
     "output_type": "stream",
     "text": [
      "acc: 1.0\n"
     ]
    }
   ],
   "source": [
    "predictions = np.argmax(activation2.output, axis=1)\n",
    "if len(y.shape) == 2:\n",
    "    y = np.argmax(y, axis=1)\n",
    "    accuracy = np.mean(predictions == y)\n",
    "# Print accuracy\n",
    "print('acc:', accuracy)"
   ]
  },
  {
   "cell_type": "markdown",
   "id": "9225d1e6",
   "metadata": {},
   "source": [
    "### Optimization"
   ]
  },
  {
   "cell_type": "code",
   "execution_count": null,
   "id": "d44eda98",
   "metadata": {},
   "outputs": [],
   "source": []
  },
  {
   "cell_type": "code",
   "execution_count": null,
   "id": "8b3ec6e7",
   "metadata": {},
   "outputs": [],
   "source": []
  },
  {
   "cell_type": "code",
   "execution_count": null,
   "id": "ef17bd1c",
   "metadata": {},
   "outputs": [],
   "source": []
  }
 ],
 "metadata": {
  "kernelspec": {
   "display_name": "Python 3 (ipykernel)",
   "language": "python",
   "name": "python3"
  },
  "language_info": {
   "codemirror_mode": {
    "name": "ipython",
    "version": 3
   },
   "file_extension": ".py",
   "mimetype": "text/x-python",
   "name": "python",
   "nbconvert_exporter": "python",
   "pygments_lexer": "ipython3",
   "version": "3.11.3"
  }
 },
 "nbformat": 4,
 "nbformat_minor": 5
}
